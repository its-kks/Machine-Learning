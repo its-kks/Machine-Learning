{
 "cells": [
  {
   "cell_type": "code",
   "execution_count": 261,
   "id": "5b071409-1f35-4930-8259-2f2377fafbd3",
   "metadata": {},
   "outputs": [],
   "source": [
    "import pandas as pd\n",
    "import numpy as np\n",
    "from sklearn.model_selection import train_test_split\n",
    "from sklearn.tree import DecisionTreeClassifier\n",
    "import matplotlib.pyplot as plt\n",
    "from sklearn.tree import plot_tree\n",
    "from sklearn.metrics import roc_auc_score, roc_curve\n",
    "from sklearn.utils import resample\n",
    "from sklearn.utils import shuffle\n",
    "from sklearn.neighbors import KNeighborsClassifier\n",
    "from sklearn.model_selection import train_test_split\n",
    "from sklearn.metrics import roc_auc_score, precision_score, recall_score, f1_score, confusion_matrix\n",
    "from sklearn.ensemble import RandomForestClassifier\n",
    "from sklearn.ensemble import AdaBoostClassifier\n",
    "from sklearn.preprocessing import StandardScaler\n",
    "\n",
    "\n",
    "\n",
    "path = 'hr_data.csv'\n",
    "hr_data = pd.read_csv(path)\n"
   ]
  },
  {
   "cell_type": "markdown",
   "id": "4376d2fc-dda6-431d-881d-d811da58008f",
   "metadata": {},
   "source": [
    "# Checking for imbalance"
   ]
  },
  {
   "cell_type": "code",
   "execution_count": 263,
   "id": "c3c6af0a-e404-4412-9080-1c5ce88692c6",
   "metadata": {},
   "outputs": [
    {
     "name": "stdout",
     "output_type": "stream",
     "text": [
      "Joined: 7313, Not Joined: 1682\n",
      "Joined: 0.8130072262367982, Not Joined: 0.18699277376320178\n"
     ]
    }
   ],
   "source": [
    "def count_status(df, status_column):\n",
    "    joined_count = df[df[status_column] == 'Joined'].shape[0]\n",
    "    not_joined_count = df[df[status_column] == 'Not Joined'].shape[0]\n",
    "    \n",
    "    return joined_count, not_joined_count\n",
    "\n",
    "# Usage\n",
    "joined_count, not_joined_count = count_status(hr_data, 'Status')\n",
    "tot = joined_count + not_joined_count\n",
    "print(f\"Joined: {joined_count}, Not Joined: {not_joined_count}\")\n",
    "print(f\"Joined: {joined_count/tot}, Not Joined: {not_joined_count/tot}\")\n"
   ]
  },
  {
   "cell_type": "markdown",
   "id": "d7ae66cc-a0f5-4b54-881a-17441da5a0d6",
   "metadata": {},
   "source": [
    "# Removing Imbalance"
   ]
  },
  {
   "cell_type": "code",
   "execution_count": 265,
   "id": "38608471-f345-4349-8590-d6d15ef6c4fe",
   "metadata": {},
   "outputs": [
    {
     "name": "stdout",
     "output_type": "stream",
     "text": [
      "Joined: 7313, Not Joined: 4000\n",
      "Joined: 0.6464244674268541, Not Joined: 0.35357553257314595\n"
     ]
    }
   ],
   "source": [
    "joined = hr_data[hr_data.Status == 'Joined']\n",
    "not_joined = hr_data[hr_data.Status == 'Not Joined']\n",
    "\n",
    "# increasing not joined\n",
    "not_joined_unsampled = resample(not_joined, replace=True, n_samples=4000)\n",
    "\n",
    "hr_data_new = shuffle(pd.concat([joined,not_joined_unsampled]))\n",
    "\n",
    "joined_count, not_joined_count = count_status(hr_data_new, 'Status')\n",
    "tot = joined_count + not_joined_count\n",
    "print(f\"Joined: {joined_count}, Not Joined: {not_joined_count}\")\n",
    "print(f\"Joined: {joined_count/tot}, Not Joined: {not_joined_count/tot}\")"
   ]
  },
  {
   "cell_type": "markdown",
   "id": "96d302f1-d5da-4d1a-9216-69f1d3d14394",
   "metadata": {},
   "source": [
    "# Making Models"
   ]
  },
  {
   "cell_type": "code",
   "execution_count": 267,
   "id": "7997b0d0-97fe-4506-aa3f-8fdef1489115",
   "metadata": {},
   "outputs": [],
   "source": [
    "x = hr_data_new[['DOJ Extended', 'Duration to accept offer', 'Notice period', 'Offered band', \n",
    "             'Pecent hike expected in CTC', 'Percent hike offered in CTC', 'Percent difference CTC',\n",
    "             'Joining Bonus', 'Candidate relocate actual', 'Gender', 'Candidate Source',\n",
    "             'Rex in Yrs', 'LOB', 'Location', 'Age']]\n",
    "y = hr_data_new['Status']\n",
    "\n",
    "x_encoded = pd.get_dummies(x, drop_first=True)\n",
    "y_encoded = pd.get_dummies(y, drop_first=True)\n",
    "\n",
    "x_train, x_test, y_train, y_test = train_test_split(x_encoded, y_encoded, test_size=0.3, random_state=42)"
   ]
  },
  {
   "cell_type": "markdown",
   "id": "2720120a-c623-465a-9839-78a2ecb8f145",
   "metadata": {},
   "source": [
    "# KNN "
   ]
  },
  {
   "cell_type": "code",
   "execution_count": 269,
   "id": "a57a3c99-18a9-42dc-b402-199c781cf939",
   "metadata": {},
   "outputs": [
    {
     "name": "stdout",
     "output_type": "stream",
     "text": [
      "ROC-AUC Score: 0.7634563416806529\n",
      "Precision: 0.5875613747954174\n",
      "Recall: 0.5943708609271523\n",
      "F1-Score: 0.5909465020576131\n"
     ]
    }
   ],
   "source": [
    "y_train = y_train.values.ravel()\n",
    "y_test = y_test.values.ravel()\n",
    "\n",
    "knn_model = KNeighborsClassifier(n_neighbors=5)\n",
    "\n",
    "knn_model.fit(x_train, y_train)\n",
    "\n",
    "y_pred_prob = knn_model.predict_proba(x_test)[:, 1]\n",
    "y_pred = knn_model.predict(x_test)\n",
    "\n",
    "roc_auc_knn = roc_auc_score(y_test, y_pred_prob)\n",
    "precision_knn = precision_score(y_test, y_pred)\n",
    "recall_knn = recall_score(y_test, y_pred)\n",
    "f1_knn = f1_score(y_test, y_pred)\n",
    "\n",
    "print(f\"ROC-AUC Score: {roc_auc_knn}\")\n",
    "print(f\"Precision: {precision_knn}\")\n",
    "print(f\"Recall: {recall_knn}\")\n",
    "print(f\"F1-Score: {f1_knn}\")\n"
   ]
  },
  {
   "cell_type": "markdown",
   "id": "be539968-0457-4b36-9137-2965cad5c4ab",
   "metadata": {},
   "source": [
    "# Random Forest"
   ]
  },
  {
   "cell_type": "code",
   "execution_count": 271,
   "id": "860c985d-55fe-4693-a80c-4149404f3480",
   "metadata": {},
   "outputs": [
    {
     "name": "stdout",
     "output_type": "stream",
     "text": [
      "ROC-AUC Score: 0.9418083469156521\n",
      "Precision: 0.8829694323144105\n",
      "Recall: 0.8369205298013245\n",
      "F1-Score: 0.8593285167870803\n"
     ]
    }
   ],
   "source": [
    "\n",
    "rf_model = RandomForestClassifier(n_estimators=100, random_state=42)\n",
    "\n",
    "rf_model.fit(x_train, y_train)\n",
    "\n",
    "y_pred_prob_rf = rf_model.predict_proba(x_test)[:, 1]\n",
    "y_pred_rf = rf_model.predict(x_test)\n",
    "\n",
    "roc_auc_rf = roc_auc_score(y_test, y_pred_prob_rf)\n",
    "precision_rf = precision_score(y_test, y_pred_rf)\n",
    "recall_rf = recall_score(y_test, y_pred_rf)\n",
    "f1_rf = f1_score(y_test, y_pred_rf)\n",
    "\n",
    "print(f\"ROC-AUC Score: {roc_auc_rf}\")\n",
    "print(f\"Precision: {precision_rf}\")\n",
    "print(f\"Recall: {recall_rf}\")\n",
    "print(f\"F1-Score: {f1_rf}\")\n"
   ]
  },
  {
   "cell_type": "markdown",
   "id": "863889c8-4f6a-4f78-8053-9b180b77c34c",
   "metadata": {},
   "source": [
    "# Adaboost"
   ]
  },
  {
   "cell_type": "code",
   "execution_count": 273,
   "id": "bdd279d6-4021-4461-8f8f-71c912a29373",
   "metadata": {},
   "outputs": [
    {
     "name": "stdout",
     "output_type": "stream",
     "text": [
      "ROC-AUC Score: 0.7202566149427725\n",
      "Precision: 0.6347469220246238\n",
      "Recall: 0.3841059602649007\n",
      "F1-Score: 0.4785972150593089\n"
     ]
    }
   ],
   "source": [
    "ada_model = AdaBoostClassifier(n_estimators=100, algorithm='SAMME', random_state=42)\n",
    "\n",
    "ada_model.fit(x_train, y_train)\n",
    "\n",
    "# Predict probabilities and class labels\n",
    "y_pred_prob_ada = ada_model.predict_proba(x_test)[:, 1]\n",
    "y_pred_ada = ada_model.predict(x_test)\n",
    "\n",
    "roc_auc_ada = roc_auc_score(y_test, y_pred_prob_ada)\n",
    "precision_ada = precision_score(y_test, y_pred_ada)\n",
    "recall_ada = recall_score(y_test, y_pred_ada)\n",
    "f1_ada = f1_score(y_test, y_pred_ada)\n",
    "\n",
    "print(f\"ROC-AUC Score: {roc_auc_ada}\")\n",
    "print(f\"Precision: {precision_ada}\")\n",
    "print(f\"Recall: {recall_ada}\")\n",
    "print(f\"F1-Score: {f1_ada}\")"
   ]
  },
  {
   "cell_type": "markdown",
   "id": "86a2fc6d-3e12-42a7-b130-ec8215096662",
   "metadata": {},
   "source": [
    "# Comparing the three models"
   ]
  },
  {
   "cell_type": "code",
   "execution_count": 275,
   "id": "3a864461-465c-4c56-a351-8715bfcc8992",
   "metadata": {},
   "outputs": [
    {
     "data": {
      "image/png": "[encoded data removed]",
      "text/plain": [
       "<Figure size 800x500 with 1 Axes>"
      ]
     },
     "metadata": {},
     "output_type": "display_data"
    }
   ],
   "source": [
    "import matplotlib.pyplot as plt\n",
    "import numpy as np\n",
    "\n",
    "results_df = pd.DataFrame({\n",
    "   'Model': ['kNN', 'Random Forest', 'AdaBoost'],\n",
    "    'ROC-AUC Score': [0.7808, 0.9520, 0.7255],\n",
    "    'Precision': [0.6021, 0.8858, 0.5879],\n",
    "    'Recall': [0.6354, 0.8583, 0.4543],\n",
    "    'F1-Score': [0.6183, 0.8719, 0.5125]\n",
    "})\n",
    "\n",
    "def comparison_function(results_df):\n",
    "    plt.figure(figsize=(8, 5))\n",
    "    \n",
    "    bar_width = 0.15\n",
    "    x = np.arange(len(results_df['Model']))\n",
    "    \n",
    "    plt.bar(x - 1.5 * bar_width, results_df['ROC-AUC Score'], width=bar_width, label='ROC-AUC Score')\n",
    "    plt.bar(x - 0.5 * bar_width, results_df['Precision'], width=bar_width, label='Precision')\n",
    "    plt.bar(x + 0.5 * bar_width, results_df['Recall'], width=bar_width, label='Recall')\n",
    "    plt.bar(x + 1.5 * bar_width, results_df['F1-Score'], width=bar_width, label='F1-Score')\n",
    "    \n",
    "    plt.xlabel('Model')\n",
    "    plt.ylabel('Score')\n",
    "    plt.title('Model Performance Comparison')\n",
    "    plt.xticks(x, results_df['Model'])\n",
    "    plt.ylim(0, 1)  \n",
    "    plt.legend()  \n",
    "    plt.grid(axis='y', linestyle='--')\n",
    "    \n",
    "    plt.tight_layout()\n",
    "    plt.show()\n",
    "\n",
    "comparison_function(results_df)\n"
   ]
  },
  {
   "cell_type": "markdown",
   "id": "273e9ed9-82b2-493d-8ce0-4d43493cf0f5",
   "metadata": {},
   "source": [
    "## From the above Bar Graph, we can conclude that the performance of Random Forest model is the best among kNN and AdaBoost."
   ]
  },
  {
   "cell_type": "markdown",
   "id": "b565360d-50d4-45fe-8b14-c5120b42d54a",
   "metadata": {},
   "source": [
    "# KNN with normalizatoin"
   ]
  },
  {
   "cell_type": "code",
   "execution_count": 278,
   "id": "a05786e2-1536-4ea1-b232-09b0749e9e8b",
   "metadata": {},
   "outputs": [
    {
     "name": "stdout",
     "output_type": "stream",
     "text": [
      "ROC-AUC Score: 0.7992523160630867\n",
      "Precision: 0.605242868157286\n",
      "Recall: 0.6498344370860927\n",
      "F1-Score: 0.626746506986028\n"
     ]
    }
   ],
   "source": [
    "scaler = StandardScaler() \n",
    "x_train_scaled = scaler.fit_transform(x_train)\n",
    "x_test_scaled = scaler.transform(x_test)\n",
    "\n",
    "knn_model = KNeighborsClassifier(n_neighbors=5)\n",
    "knn_model.fit(x_train_scaled, y_train)\n",
    "\n",
    "y_pred_prob = knn_model.predict_proba(x_test_scaled)[:, 1]\n",
    "y_pred = knn_model.predict(x_test_scaled)\n",
    "\n",
    "roc_auc_knn_norm = roc_auc_score(y_test, y_pred_prob)\n",
    "precision_knn_norm = precision_score(y_test, y_pred)\n",
    "recall_knn_norm = recall_score(y_test, y_pred)\n",
    "f1_knn_norm = f1_score(y_test, y_pred)\n",
    "\n",
    "print(f\"ROC-AUC Score: {roc_auc_knn_norm}\")\n",
    "print(f\"Precision: {precision_knn_norm}\")\n",
    "print(f\"Recall: {recall_knn_norm}\")\n",
    "print(f\"F1-Score: {f1_knn_norm}\")\n"
   ]
  },
  {
   "cell_type": "markdown",
   "id": "7089ad68-224b-4452-b784-fba121ad11ca",
   "metadata": {},
   "source": [
    "# Random Forest with normalization"
   ]
  },
  {
   "cell_type": "code",
   "execution_count": 280,
   "id": "ce408ed1-b11c-492d-8414-641049b49651",
   "metadata": {},
   "outputs": [
    {
     "name": "stdout",
     "output_type": "stream",
     "text": [
      "Random Forest Metrics:\n",
      "ROC-AUC Score: 0.9421082687542035\n",
      "Precision: 0.8837412587412588\n",
      "Recall: 0.8369205298013245\n",
      "F1-Score: 0.8596938775510204\n"
     ]
    }
   ],
   "source": [
    "rf_model = RandomForestClassifier(n_estimators=100, random_state=42)  # You can adjust n_estimators as needed\n",
    "rf_model.fit(x_train_scaled, y_train)\n",
    "\n",
    "# Make predictions\n",
    "y_pred_prob_rf = rf_model.predict_proba(x_test_scaled)[:, 1]\n",
    "y_pred_rf = rf_model.predict(x_test_scaled)\n",
    "\n",
    "# Calculate metrics\n",
    "roc_auc_rf_norm = roc_auc_score(y_test, y_pred_prob_rf)\n",
    "precision_rf_norm = precision_score(y_test, y_pred_rf)\n",
    "recall_rf_norm = recall_score(y_test, y_pred_rf)\n",
    "f1_rf_norm = f1_score(y_test, y_pred_rf)\n",
    "\n",
    "# Print the metrics for Random Forest\n",
    "print(f\"Random Forest Metrics:\")\n",
    "print(f\"ROC-AUC Score: {roc_auc_rf_norm}\")\n",
    "print(f\"Precision: {precision_rf_norm}\")\n",
    "print(f\"Recall: {recall_rf_norm}\")\n",
    "print(f\"F1-Score: {f1_rf_norm}\")"
   ]
  },
  {
   "cell_type": "markdown",
   "id": "aaaf9f80-9a26-494b-9dfc-c6984000b67f",
   "metadata": {},
   "source": [
    "# Comparing kNN and Random Forest before and after using normalization"
   ]
  },
  {
   "cell_type": "code",
   "execution_count": 282,
   "id": "b4ebc7dd-7b8b-4a18-90f0-3ea3419252a1",
   "metadata": {},
   "outputs": [
    {
     "name": "stdout",
     "output_type": "stream",
     "text": [
      "Improvement in kNN\n",
      "Improvement in ROC AUC: 4.69%\n",
      "Improvement in Precision: 3.01%\n",
      "Improvement in Recall: 9.33%\n",
      "Improvement in F1 Score: 6.06%\n",
      "Improvement in Random Forest \n",
      "Improvement in ROC AUC: 0.03%\n",
      "Improvement in Precision: 0.09%\n",
      "Improvement in Recall: 0.00%\n",
      "Improvement in F1 Score: 0.04%\n"
     ]
    }
   ],
   "source": [
    "def compare_model(roc_auc, precision, recall, f1, \n",
    "                  roc_auc_norm, precision_norm, recall_norm, f1_norm):\n",
    "    \n",
    "    roc_auc_improvement = (roc_auc_norm - roc_auc) / roc_auc * 100\n",
    "    precision_improvement = (precision_norm - precision) / precision * 100\n",
    "    recall_improvement = (recall_norm - recall) / recall * 100\n",
    "    f1_improvement = (f1_norm - f1) / f1 * 100\n",
    "    \n",
    "    print(f\"Improvement in ROC AUC: {roc_auc_improvement:.2f}%\")\n",
    "    print(f\"Improvement in Precision: {precision_improvement:.2f}%\")\n",
    "    print(f\"Improvement in Recall: {recall_improvement:.2f}%\")\n",
    "    print(f\"Improvement in F1 Score: {f1_improvement:.2f}%\")\n",
    "\n",
    "print(\"Improvement in kNN\")\n",
    "compare_model(roc_auc_knn,precision_knn,recall_knn,f1_knn, roc_auc_knn_norm, precision_knn_norm, recall_knn_norm, f1_knn_norm)\n",
    "\n",
    "print(\"Improvement in Random Forest \")\n",
    "compare_model(roc_auc_rf, precision_rf, recall_rf, f1_rf, roc_auc_rf_norm, precision_rf_norm, recall_rf_norm, f1_rf_norm)\n",
    "\n"
   ]
  },
  {
   "cell_type": "code",
   "execution_count": null,
   "id": "8e3d2b2f-7935-4bd4-a0b8-69ad7c99f666",
   "metadata": {},
   "outputs": [],
   "source": []
  },
  {
   "cell_type": "markdown",
   "id": "42b32929-d8ee-4bc3-92f9-30be50b96f43",
   "metadata": {},
   "source": []
  },
  {
   "cell_type": "code",
   "execution_count": null,
   "id": "2cc53e45-ab8c-45a3-b200-5bd7ed0396f2",
   "metadata": {},
   "outputs": [],
   "source": []
  },
  {
   "cell_type": "code",
   "execution_count": null,
   "id": "d90f5ded-0a1d-4cfd-b51a-f0d612225371",
   "metadata": {},
   "outputs": [],
   "source": []
  }
 ],
 "metadata": {
  "kernelspec": {
   "display_name": "Python 3 (ipykernel)",
   "language": "python",
   "name": "python3"
  },
  "language_info": {
   "codemirror_mode": {
    "name": "ipython",
    "version": 3
   },
   "file_extension": ".py",
   "mimetype": "text/x-python",
   "name": "python",
   "nbconvert_exporter": "python",
   "pygments_lexer": "ipython3",
   "version": "3.12.4"
  }
 },
 "nbformat": 4,
 "nbformat_minor": 5
}
