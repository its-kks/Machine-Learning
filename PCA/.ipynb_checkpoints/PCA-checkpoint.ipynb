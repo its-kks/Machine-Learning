{
 "cells": [
  {
   "cell_type": "code",
   "execution_count": 59,
   "id": "f04ab074-4492-46ff-a92d-3a1b8d1e4722",
   "metadata": {},
   "outputs": [],
   "source": [
    "import numpy as np\n",
    "import pandas as pd\n",
    "import seaborn as sns"
   ]
  },
  {
   "cell_type": "code",
   "execution_count": 60,
   "id": "2ed92af5-67bd-421c-be48-806d3b18a5c5",
   "metadata": {},
   "outputs": [
    {
     "data": {
      "text/html": [
       "<div>\n",
       "<style scoped>\n",
       "    .dataframe tbody tr th:only-of-type {\n",
       "        vertical-align: middle;\n",
       "    }\n",
       "\n",
       "    .dataframe tbody tr th {\n",
       "        vertical-align: top;\n",
       "    }\n",
       "\n",
       "    .dataframe thead th {\n",
       "        text-align: right;\n",
       "    }\n",
       "</style>\n",
       "<table border=\"1\" class=\"dataframe\">\n",
       "  <thead>\n",
       "    <tr style=\"text-align: right;\">\n",
       "      <th></th>\n",
       "      <th>total_bill</th>\n",
       "      <th>tip</th>\n",
       "      <th>sex</th>\n",
       "      <th>smoker</th>\n",
       "      <th>day</th>\n",
       "      <th>time</th>\n",
       "      <th>size</th>\n",
       "    </tr>\n",
       "  </thead>\n",
       "  <tbody>\n",
       "    <tr>\n",
       "      <th>0</th>\n",
       "      <td>16.99</td>\n",
       "      <td>1.01</td>\n",
       "      <td>Female</td>\n",
       "      <td>No</td>\n",
       "      <td>Sun</td>\n",
       "      <td>Dinner</td>\n",
       "      <td>2</td>\n",
       "    </tr>\n",
       "    <tr>\n",
       "      <th>1</th>\n",
       "      <td>10.34</td>\n",
       "      <td>1.66</td>\n",
       "      <td>Male</td>\n",
       "      <td>No</td>\n",
       "      <td>Sun</td>\n",
       "      <td>Dinner</td>\n",
       "      <td>3</td>\n",
       "    </tr>\n",
       "    <tr>\n",
       "      <th>2</th>\n",
       "      <td>21.01</td>\n",
       "      <td>3.50</td>\n",
       "      <td>Male</td>\n",
       "      <td>No</td>\n",
       "      <td>Sun</td>\n",
       "      <td>Dinner</td>\n",
       "      <td>3</td>\n",
       "    </tr>\n",
       "    <tr>\n",
       "      <th>3</th>\n",
       "      <td>23.68</td>\n",
       "      <td>3.31</td>\n",
       "      <td>Male</td>\n",
       "      <td>No</td>\n",
       "      <td>Sun</td>\n",
       "      <td>Dinner</td>\n",
       "      <td>2</td>\n",
       "    </tr>\n",
       "    <tr>\n",
       "      <th>4</th>\n",
       "      <td>24.59</td>\n",
       "      <td>3.61</td>\n",
       "      <td>Female</td>\n",
       "      <td>No</td>\n",
       "      <td>Sun</td>\n",
       "      <td>Dinner</td>\n",
       "      <td>4</td>\n",
       "    </tr>\n",
       "  </tbody>\n",
       "</table>\n",
       "</div>"
      ],
      "text/plain": [
       "   total_bill   tip     sex smoker  day    time  size\n",
       "0       16.99  1.01  Female     No  Sun  Dinner     2\n",
       "1       10.34  1.66    Male     No  Sun  Dinner     3\n",
       "2       21.01  3.50    Male     No  Sun  Dinner     3\n",
       "3       23.68  3.31    Male     No  Sun  Dinner     2\n",
       "4       24.59  3.61  Female     No  Sun  Dinner     4"
      ]
     },
     "execution_count": 60,
     "metadata": {},
     "output_type": "execute_result"
    }
   ],
   "source": [
    "df = sns.load_dataset('tips')\n",
    "df.head()"
   ]
  },
  {
   "cell_type": "code",
   "execution_count": 61,
   "id": "2d79b315-de15-4058-9f4f-e94f8192332a",
   "metadata": {},
   "outputs": [],
   "source": [
    "df = df[['total_bill','tip','size']]"
   ]
  },
  {
   "cell_type": "code",
   "execution_count": 62,
   "id": "d3629007-75b9-4521-bf23-67ee53d0c2f9",
   "metadata": {},
   "outputs": [
    {
     "name": "stdout",
     "output_type": "stream",
     "text": [
      "            total_bill       tip      size\n",
      "total_bill   79.252939  8.323502  5.065983\n",
      "tip           8.323502  1.914455  0.643906\n",
      "size          5.065983  0.643906  0.904591\n"
     ]
    }
   ],
   "source": [
    "cov_matrix = df.cov()\n",
    "print(cov_matrix)"
   ]
  },
  {
   "cell_type": "code",
   "execution_count": 63,
   "id": "d39e20f7-d559-4d1d-9c43-e2972731f2e5",
   "metadata": {},
   "outputs": [],
   "source": [
    "np_cov = cov_matrix.to_numpy()"
   ]
  },
  {
   "cell_type": "code",
   "execution_count": 64,
   "id": "7a852c8b-1742-4ecc-a72d-71a59c4ebfd1",
   "metadata": {},
   "outputs": [
    {
     "name": "stdout",
     "output_type": "stream",
     "text": [
      "[80.46625221  1.05159637  0.55413551] [[-0.99233642 -0.11707214 -0.03952889]\n",
      " [-0.10567486  0.96986065 -0.21955216]\n",
      " [-0.06404095  0.21369239  0.97479963]]\n"
     ]
    }
   ],
   "source": [
    "\"\"\" \n",
    " REMEMBER\n",
    " calculation of eigen value and eigen vectors\n",
    "\"\"\"\n",
    "eigen_values, eigen_vectors =  np.linalg.eig(cov_matrix)\n",
    "print(eigen_values,eigen_vectors)"
   ]
  },
  {
   "cell_type": "code",
   "execution_count": 65,
   "id": "8f2fbe10-9622-4648-b9a4-ba7fa49da580",
   "metadata": {},
   "outputs": [],
   "source": [
    "\"\"\" \n",
    " REMEMBER\n",
    " How to sort based on indexes\n",
    "\"\"\"\n",
    "sorted_index = eigen_values.argsort()[::-1]\n",
    "eigen_values = eigen_values[sorted_index]\n",
    "eigen_vectors = eigen_vectors[sorted_index]"
   ]
  },
  {
   "cell_type": "code",
   "execution_count": 66,
   "id": "80a250fe-4dc8-4646-b279-302005df7aff",
   "metadata": {},
   "outputs": [
    {
     "data": {
      "text/html": [
       "<div>\n",
       "<style scoped>\n",
       "    .dataframe tbody tr th:only-of-type {\n",
       "        vertical-align: middle;\n",
       "    }\n",
       "\n",
       "    .dataframe tbody tr th {\n",
       "        vertical-align: top;\n",
       "    }\n",
       "\n",
       "    .dataframe thead th {\n",
       "        text-align: right;\n",
       "    }\n",
       "</style>\n",
       "<table border=\"1\" class=\"dataframe\">\n",
       "  <thead>\n",
       "    <tr style=\"text-align: right;\">\n",
       "      <th></th>\n",
       "      <th>total_bill</th>\n",
       "      <th>tip</th>\n",
       "      <th>size</th>\n",
       "    </tr>\n",
       "  </thead>\n",
       "  <tbody>\n",
       "    <tr>\n",
       "      <th>0</th>\n",
       "      <td>-2.795943</td>\n",
       "      <td>-1.988279</td>\n",
       "      <td>-0.569672</td>\n",
       "    </tr>\n",
       "    <tr>\n",
       "      <th>1</th>\n",
       "      <td>-9.445943</td>\n",
       "      <td>-1.338279</td>\n",
       "      <td>0.430328</td>\n",
       "    </tr>\n",
       "    <tr>\n",
       "      <th>2</th>\n",
       "      <td>1.224057</td>\n",
       "      <td>0.501721</td>\n",
       "      <td>0.430328</td>\n",
       "    </tr>\n",
       "    <tr>\n",
       "      <th>3</th>\n",
       "      <td>3.894057</td>\n",
       "      <td>0.311721</td>\n",
       "      <td>-0.569672</td>\n",
       "    </tr>\n",
       "    <tr>\n",
       "      <th>4</th>\n",
       "      <td>4.804057</td>\n",
       "      <td>0.611721</td>\n",
       "      <td>1.430328</td>\n",
       "    </tr>\n",
       "  </tbody>\n",
       "</table>\n",
       "</div>"
      ],
      "text/plain": [
       "   total_bill       tip      size\n",
       "0   -2.795943 -1.988279 -0.569672\n",
       "1   -9.445943 -1.338279  0.430328\n",
       "2    1.224057  0.501721  0.430328\n",
       "3    3.894057  0.311721 -0.569672\n",
       "4    4.804057  0.611721  1.430328"
      ]
     },
     "execution_count": 66,
     "metadata": {},
     "output_type": "execute_result"
    }
   ],
   "source": [
    "# converting data to mean adjusted data\n",
    "\n",
    "cols = ['total_bill','tip','size']\n",
    "for col in cols:\n",
    "    curr_mean = df[col].mean()\n",
    "    df[col] = df.apply(lambda rec : rec[col] - curr_mean , axis = 1)\n",
    "df.head()"
   ]
  },
  {
   "cell_type": "code",
   "execution_count": 74,
   "id": "79bdba67-933d-4090-bbf8-c43c1207c703",
   "metadata": {},
   "outputs": [
    {
     "name": "stdout",
     "output_type": "stream",
     "text": [
      "PC1\n",
      "[  3.02980626   9.51321771  -1.29042469  -3.87819035  -4.89539592\n",
      "  -5.71881077  11.07091025  -7.11048098   4.85364375   4.9629696\n",
      "   9.61635654 -15.64635585   4.52221405   1.28881047   4.93793793\n",
      "  -1.86569787   9.52197035   3.36881808   2.71861446  -0.91562276\n",
      "   1.7475219   -0.44860947   4.09762868 -20.07652151  -0.03255237\n",
      "   1.98132667   6.5061627    7.18095147  -2.02926565   0.1572178\n",
      "  10.36127752   1.42673346   4.71204199  -0.88948017   1.98127744\n",
      "  -4.328758     3.54916472   2.80864894   1.15111166 -11.64740463\n",
      "   3.78899824   2.38428776   5.81643446  10.24749316 -10.89384411\n",
      "   1.50679534  -2.63715446 -12.92534582  -8.60288673   1.75487945\n",
      "   7.27126586   9.4923156  -15.22321889   9.96138838  -5.94342491\n",
      "   0.25628484 -18.14113673  -6.37536821   8.6479366  -28.75918755\n",
      "  -0.50246266   6.06953467   8.84049474   1.33876274   2.20404792\n",
      "  -0.32657657   3.3947426   16.8838289   -0.3024359    4.86819447\n",
      "   7.84932903   2.67791689  -7.01391792  -5.66378056   5.13317073\n",
      "   9.43204898   1.86459405  -7.53105212  -2.92894848   2.53308269\n",
      "   0.36560845   3.07747486   9.84030405 -13.0070701    3.91265246\n",
      " -15.23955345   6.84355708   1.39964656  -5.19766012  -1.3412102\n",
      "  -9.09135768  -2.71955371  14.1848384    3.30950431  -2.94829315\n",
      " -20.48711822  -7.53138126   7.89442958  -1.19235973   7.46772491\n",
      "   8.4521462    4.39449434 -24.28486789  -2.64774872  -1.22948737\n",
      "   4.57355918  -0.80044127  -5.51119578   1.46743733   5.33922217\n",
      "   5.7639186   12.73586265 -18.27822017  -4.05714636  -6.01294196\n",
      "   2.42074897 -10.36539776   9.26385384   7.46237336  -4.30852456\n",
      "   8.13699553   6.49400896   5.56444721   3.94593472   7.3284646\n",
      " -10.21359903  11.37987187   5.36497581   8.48091218  -2.93201839\n",
      "   0.89845778  -0.43812852   8.7478389    7.60765613   1.5072974\n",
      "  11.41672183   9.52286543   5.73214028   3.8963179    6.62674924\n",
      "   2.26197514 -14.9717933  -21.57043974  -7.57833157   3.43449159\n",
      "  11.54622762   1.31194702   8.03798403  10.10025994  12.32125415\n",
      "   5.75299113   6.74432344   2.51981173  -4.66721631   0.0761518\n",
      " -10.33373478 -28.53647687  -5.31864395   6.41490196   3.33101528\n",
      "  -1.81619843   7.15218549   3.64839836   6.06953467   2.28081775\n",
      "  -4.7711841   -0.8553008  -12.06502547   9.31051609   9.2251645\n",
      " -31.62301909   3.94905813  12.21048436 -11.97035957   2.84845774\n",
      " -13.00411776   2.02080206   5.40466926  10.01312673 -14.77237152\n",
      " -14.8864954   -3.80482142 -25.44389328  -3.82461669 -20.58261348\n",
      "  -1.22754303  -1.18126769 -10.57145347   1.54765748  -3.42294389\n",
      "   4.26247826  -0.14087188  -8.51390763   4.4099914    3.08661848\n",
      "  12.33719773   9.51294206 -23.43619679   6.87332717   6.3672356\n",
      "   0.93341301   7.13016392   6.87332717   3.44084726  -0.91216817\n",
      "   3.24639216  -6.81712545 -18.85561896  -4.3138165    7.08456132\n",
      " -10.09546112  -6.36689509 -29.0844815    6.54686027  -8.74676993\n",
      "   7.07792575  -8.39622847   8.3310576   12.15857717 -10.34198556\n",
      "   7.68347534   6.2832791   11.30834883   3.7595636    6.50571618\n",
      "   3.56985099   9.76102617  -0.71570911   6.51118103  -2.27980451\n",
      "  -4.13135464   4.04734116   8.08994452   9.14828564   4.24564387\n",
      "   9.86867701   7.38733389 -12.70753425 -16.13382492  -9.53227741\n",
      "  -7.19800333  -2.72256606   2.11953364   1.02055049]\n",
      "PC2\n",
      "[-1.50781967e+00 -3.94224579e-01  2.62768252e-01  1.58950080e-02\n",
      " -2.28415231e-01  7.64459078e-01  3.20989726e-01 -9.45642378e-01\n",
      " -3.80386073e-01  8.78812412e-01 -1.18782152e-01 -7.85969060e-03\n",
      " -7.98788172e-01 -1.69073087e-01  6.69857934e-01  8.29427209e-01\n",
      " -3.83469224e-01  9.65224329e-01  6.89694688e-01  1.55332105e-01\n",
      "  1.37137490e+00 -1.68989178e-01 -1.95666346e-01  2.05477336e+00\n",
      "  2.97718084e-01 -7.43662701e-01 -1.65114631e-01 -9.32557257e-02\n",
      "  1.18529327e+00  1.41107894e-01 -2.94860020e-01 -6.45549422e-01\n",
      "  6.26155503e-01 -9.41321627e-01  6.00582258e-01  3.74459935e-02\n",
      " -6.95350875e-01  2.76881604e-01 -6.46200242e-01  6.33335157e-01\n",
      " -4.34052108e-01 -7.36000596e-02  8.02702985e-01 -4.34679636e-01\n",
      "  1.08763652e+00  2.84825704e-01  1.80818805e+00  1.26423106e+00\n",
      " -1.94031813e+00  3.11244419e-01  4.07525827e-01  7.42280327e-01\n",
      "  2.33666126e-01 -2.29388545e-01  3.77078427e-01  6.52644802e-01\n",
      " -2.23818685e+00 -2.02804513e+00 -1.72793734e-01  2.95169297e-01\n",
      "  2.77146720e-01 -2.11611569e-01  6.38240780e-02  5.82815485e-01\n",
      " -2.09903882e-01  2.15946460e-02 -3.47586960e-02  1.73027938e-01\n",
      " -8.80345566e-01 -2.51133943e-01 -5.15493887e-02  1.94196878e-01\n",
      " -4.85027358e-01  1.48587973e+00 -1.14860311e-01 -5.90280016e-01\n",
      "  4.01514254e-01 -1.25980964e-01 -1.87540921e-01  1.09240977e-01\n",
      "  1.63299615e-01  8.45019985e-01  2.38288253e-01  7.03885760e-01\n",
      " -4.11830196e-01  2.02456809e-01 -1.29185178e-01  1.25574310e+00\n",
      "  2.37049595e+00 -1.84611448e-02 -8.43781803e-01  3.25921615e-01\n",
      " -3.29732843e-01  1.75382402e+00  5.59809892e-02 -7.88585629e-01\n",
      "  3.04669358e-01 -5.08440642e-01 -2.60991577e-03 -5.53880831e-01\n",
      "  5.33278911e-01  5.92339547e-01 -3.16825989e+00  3.13921642e-01\n",
      "  1.05435032e+00 -7.24557436e-01  1.08039330e+00  8.04675906e-01\n",
      "  1.02720354e+00  1.67527230e+00  7.38170855e-01 -2.68692978e-01\n",
      " -1.05511454e+00 -7.49731296e-01  2.51026733e-01  8.73317391e-01\n",
      "  6.23277560e-01 -3.62609334e-01 -2.59752391e-01 -8.43724899e-01\n",
      "  3.13075935e-01 -4.80753781e-01  2.25765067e-01 -4.37755770e-01\n",
      "  4.33263532e-01 -6.45867782e-01 -1.56919095e-01 -2.86640720e-01\n",
      "  4.51783412e-02 -1.20871930e+00 -1.25344841e+00 -8.92868292e-02\n",
      " -4.17560262e-01 -4.78155358e-02  5.30461112e-01 -3.78930295e-01\n",
      "  1.56136944e-01 -2.47541022e-01 -4.43039513e-01  5.84472575e-01\n",
      "  8.56409413e-01  1.30324696e+00 -8.54063767e-01  4.20626601e-01\n",
      " -1.97521509e-01 -1.19557156e-01 -1.56228411e+00 -3.65450780e-01\n",
      " -4.76042571e-02  4.54140050e-01  2.45843291e-01 -1.39752664e-01\n",
      " -7.80451134e-02 -1.78566388e+00 -1.28053805e+00  4.80069639e-01\n",
      " -1.81122645e+00 -1.35961433e-01  4.24386867e-01 -9.33924505e-01\n",
      " -8.56458437e-03  3.94844844e-01 -6.84783389e-01 -2.11611569e-01\n",
      "  3.67252095e-01 -1.27547720e-01 -7.13285293e-01 -1.17644260e-01\n",
      " -2.49584172e-01  1.24434486e-01  3.41775162e+00  7.02077061e-01\n",
      "  3.53667655e+00 -9.73550484e-01  1.41002840e+00 -1.15239933e+00\n",
      " -6.42764999e-01 -2.82413726e-01  2.17300089e+00 -9.08478156e-01\n",
      " -1.22361408e+00  2.32235512e+00 -2.30935785e+00  2.72454034e+00\n",
      " -2.06749669e+00  1.31227087e+00  2.74392487e-01 -2.62975446e+00\n",
      "  5.64998353e-01  5.26838118e-01 -8.95210630e-01  1.27833409e+00\n",
      " -1.21451281e+00 -3.68691373e-01  1.43539036e+00 -9.42656550e-02\n",
      "  1.55080196e-01 -8.37407344e-01 -1.26014932e-01 -1.79909111e-01\n",
      "  9.90750755e-01 -8.88408622e-02 -1.26014932e-01 -3.79133616e-04\n",
      "  5.78870354e-01  4.80669743e-01 -4.14184926e-01 -2.31427275e+00\n",
      " -1.28787479e+00  1.22414983e-01 -2.14838020e+00  1.13749145e+00\n",
      "  2.49041247e+00  3.30383179e-01  2.41571819e+00 -9.88322029e-01\n",
      " -1.41578488e+00 -4.61943703e-01 -1.13287130e-01 -1.31923824e+00\n",
      "  1.56724080e-01  1.26499538e+00  4.83031253e-01  3.09382476e-01\n",
      " -5.77739846e-01  1.33585982e-02  1.81498911e-01 -3.82536305e-01\n",
      "  5.42695773e-01 -2.36292288e-01 -1.72859945e+00  3.40028185e-01\n",
      "  1.36897942e+00 -4.04386137e-01  5.76488318e-01 -5.43783077e-01\n",
      " -1.05360564e+00 -3.02653175e+00 -1.68596219e-01  1.76231864e+00\n",
      " -1.62448445e+00 -1.14789083e+00 -8.77832921e-01  2.33045023e-01]\n",
      "PC3\n",
      "[-0.80114138  0.73843064  0.44830767 -0.73808286  1.21734685  1.40757982\n",
      " -0.06316928  0.9659838  -0.47325375 -0.18521377 -0.2212015   0.83106231\n",
      " -0.58092934  1.48148677 -0.23329122 -0.4732445   0.74120797  0.79545637\n",
      "  0.70703312  0.43930856 -0.20466382 -0.64065176 -0.4623067   1.11597832\n",
      " -0.51866479  1.38015518 -0.35775766 -0.31420981 -0.3997263  -0.54624246\n",
      " -0.23065204  1.37976385 -0.25229448  1.2192234  -0.36878893  0.27435201\n",
      "  0.42876157  0.61770703  0.34258874  0.11178608  0.4973388  -0.50429127\n",
      " -0.16774707 -0.26675737  1.27051678 -0.45914676 -0.28408333  1.22791183\n",
      " -0.34441508 -0.44313652 -0.19775748 -0.03229609  0.90261922 -0.23212185\n",
      "  1.31122258 -0.42701278  0.22756491 -1.29969789 -0.27263661  0.36757735\n",
      " -0.54235326 -0.38593568 -0.21153527  1.65285872  0.48355228  0.43307342\n",
      " -0.45456837 -0.88662787 -0.79494168 -0.44355251 -0.27771315  0.59378283\n",
      " -0.97806079 -0.47940824 -0.40211488 -0.33486983 -0.41835622  1.13354\n",
      " -0.74540982 -0.4570766  -0.53279386 -0.26928305 -1.15754985 -0.95331129\n",
      " -0.51849378  0.89492763 -0.33598374 -0.24481396 -0.26126636 -0.6429443\n",
      " -1.14310414 -0.62127257 -0.08345799 -0.05518597 -0.69134631  0.45892429\n",
      " -0.82118254 -0.37878898 -0.63333815 -0.40632659 -0.12154874 -0.27278759\n",
      " -1.25689851 -0.62106355 -0.39678668 -0.56212842 -0.37352292 -0.62664697\n",
      " -0.2935385   0.00942862 -0.18441107 -1.15431905 -0.53738479 -0.91778013\n",
      "  0.25416139 -0.28954043  1.18735906 -0.29041247 -0.34029765  1.10255999\n",
      " -0.18392422 -0.42934128 -0.30790792 -0.52298332 -0.18964117  2.95937126\n",
      " -0.15827908 -0.43140476 -0.23031617  0.05031959 -0.8302777  -0.62227555\n",
      " -0.32371376 -0.28667221 -0.40380243 -0.20678792 -0.16307317 -0.40770961\n",
      " -0.52618537 -0.18403977 -0.29978698  3.20541795  1.42609909  3.30643779\n",
      " -0.48961526 -0.14311827  0.14278301 -0.34076242 -0.18554759  0.01752232\n",
      " -0.29574013 -0.34238783  0.52605503  0.87586374  1.1819795   2.18224043\n",
      "  1.95389287  1.221007   -0.22868612  1.39203382  1.39172724 -0.20544239\n",
      "  0.43516566 -0.38593568 -0.40919482  0.21925008 -0.77973413  0.9515615\n",
      " -0.26306385 -0.18228545 -0.07111218 -0.26613441  0.707304   -1.28907745\n",
      " -0.15131417 -1.37127892 -0.64722277 -0.42884312  0.31106151 -1.38804512\n",
      "  0.58805333 -0.21562833 -1.11044912  1.92585602 -1.88469837  2.73893862\n",
      "  0.45535218  1.47218134  0.6314648   0.42130828 -0.61317887 -0.30219506\n",
      " -1.20318709 -0.48861023 -0.13594434 -0.10534747 -0.16371358  0.32834083\n",
      " -0.33406251 -0.3667234   0.70244806 -0.31527494 -0.33406251 -0.44495555\n",
      "  1.56069316  0.68135665  0.07172684  0.18145542 -1.04939328 -0.26954343\n",
      " -0.45180154  1.46531682  0.84881662 -0.24450737  0.63085162 -0.51998157\n",
      "  1.83380833 -0.35061096 -0.11687484  0.75079952 -0.23752963 -0.04469497\n",
      " -1.04289652  0.66358747 -0.45071051 -0.43663023 -0.14770334  1.35212404\n",
      " -0.19813546 -0.7300667   0.91044586  0.68215935  0.05198684 -0.30450815\n",
      " -0.28239373 -0.30669181 -0.52213852 -1.78135929 -0.25075915  0.45183482\n",
      " -1.24216322 -0.95333853 -0.696163   -0.49052683]\n"
     ]
    }
   ],
   "source": [
    "## Printing PCA in decreasing level of sginificance and adding to df\n",
    "mean_adj_data = df.to_numpy()\n",
    "for i in range(len(eigen_vectors)):\n",
    "    pc = eigen_vectors[i].T.dot(mean_adj_data.T)\n",
    "    df[f\"PC{i+1}\"] = pc\n",
    "    print(f\"PC{i+1}\");\n",
    "    print(pc)"
   ]
  },
  {
   "cell_type": "code",
   "execution_count": 76,
   "id": "8509a147-9fd7-45c6-af08-5910418e2fd2",
   "metadata": {},
   "outputs": [
    {
     "data": {
      "text/plain": [
       "<Axes: >"
      ]
     },
     "execution_count": 76,
     "metadata": {},
     "output_type": "execute_result"
    },
    {
     "data": {
      "image/png": "[encoded data removed]",
      "text/plain": [
       "<Figure size 640x480 with 2 Axes>"
      ]
     },
     "metadata": {},
     "output_type": "display_data"
    }
   ],
   "source": [
    "sns.heatmap(df.corr(),annot=True)"
   ]
  },
  {
   "cell_type": "code",
   "execution_count": null,
   "id": "ca0b1a44-bbd3-4bda-938d-003621b24f83",
   "metadata": {},
   "outputs": [],
   "source": []
  }
 ],
 "metadata": {
  "kernelspec": {
   "display_name": "Python 3 (ipykernel)",
   "language": "python",
   "name": "python3"
  },
  "language_info": {
   "codemirror_mode": {
    "name": "ipython",
    "version": 3
   },
   "file_extension": ".py",
   "mimetype": "text/x-python",
   "name": "python",
   "nbconvert_exporter": "python",
   "pygments_lexer": "ipython3",
   "version": "3.10.12"
  }
 },
 "nbformat": 4,
 "nbformat_minor": 5
}
