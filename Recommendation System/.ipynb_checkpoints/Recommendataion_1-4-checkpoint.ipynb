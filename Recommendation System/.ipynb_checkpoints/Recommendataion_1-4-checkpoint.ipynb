{
 "cells": [
  {
   "cell_type": "code",
   "execution_count": 23,
   "id": "009fc679-3c18-4093-9736-8e716105c12a",
   "metadata": {},
   "outputs": [],
   "source": [
    "import pandas as pd\n",
    "from mlxtend.preprocessing import TransactionEncoder\n",
    "from mlxtend.frequent_patterns import apriori, association_rules"
   ]
  },
  {
   "cell_type": "code",
   "execution_count": 24,
   "id": "4b769a9a-8717-48f6-bc11-2644dbb170ac",
   "metadata": {},
   "outputs": [
    {
     "name": "stdout",
     "output_type": "stream",
     "text": [
      "  InvoiceNo StockCode                          Description  Quantity  \\\n",
      "0    536365    85123A   WHITE HANGING HEART T-LIGHT HOLDER         6   \n",
      "1    536365     71053                  WHITE METAL LANTERN         6   \n",
      "2    536365    84406B       CREAM CUPID HEARTS COAT HANGER         8   \n",
      "3    536365    84029G  KNITTED UNION FLAG HOT WATER BOTTLE         6   \n",
      "4    536365    84029E       RED WOOLLY HOTTIE WHITE HEART.         6   \n",
      "\n",
      "          InvoiceDate  UnitPrice  CustomerID         Country  \n",
      "0 2010-12-01 08:26:00       2.55     17850.0  United Kingdom  \n",
      "1 2010-12-01 08:26:00       3.39     17850.0  United Kingdom  \n",
      "2 2010-12-01 08:26:00       2.75     17850.0  United Kingdom  \n",
      "3 2010-12-01 08:26:00       3.39     17850.0  United Kingdom  \n",
      "4 2010-12-01 08:26:00       3.39     17850.0  United Kingdom  \n",
      "<class 'pandas.core.frame.DataFrame'>\n",
      "RangeIndex: 541909 entries, 0 to 541908\n",
      "Data columns (total 8 columns):\n",
      " #   Column       Non-Null Count   Dtype         \n",
      "---  ------       --------------   -----         \n",
      " 0   InvoiceNo    541909 non-null  object        \n",
      " 1   StockCode    541909 non-null  object        \n",
      " 2   Description  540455 non-null  object        \n",
      " 3   Quantity     541909 non-null  int64         \n",
      " 4   InvoiceDate  541909 non-null  datetime64[ns]\n",
      " 5   UnitPrice    541909 non-null  float64       \n",
      " 6   CustomerID   406829 non-null  float64       \n",
      " 7   Country      541909 non-null  object        \n",
      "dtypes: datetime64[ns](1), float64(2), int64(1), object(4)\n",
      "memory usage: 33.1+ MB\n",
      "None\n"
     ]
    }
   ],
   "source": [
    "df = pd.read_excel('online_retail.xlsx')\n",
    "print(df.head(5))\n",
    "print(df.info())"
   ]
  },
  {
   "cell_type": "code",
   "execution_count": 25,
   "id": "ced248e7-1114-4cf4-a021-b3d00f64761a",
   "metadata": {},
   "outputs": [],
   "source": [
    "# handling Null values and changing date time format\n",
    "df = df.dropna(subset=['CustomerID']).fillna({'Description': 'Unknown', 'Country': 'Unknown'})\n",
    "df['InvoiceDate'] = pd.to_datetime(df['InvoiceDate'])"
   ]
  },
  {
   "cell_type": "markdown",
   "id": "aba7bf80-0e75-450d-912d-2272b580c4cd",
   "metadata": {},
   "source": [
    "## Q1"
   ]
  },
  {
   "cell_type": "code",
   "execution_count": 26,
   "id": "bc01d62b-3ae8-416a-982f-52e591a47ada",
   "metadata": {},
   "outputs": [
    {
     "name": "stdout",
     "output_type": "stream",
     "text": [
      "  InvoiceNo StockCode                          Description  Quantity  \\\n",
      "0    536365    85123A   WHITE HANGING HEART T-LIGHT HOLDER         6   \n",
      "1    536365     71053                  WHITE METAL LANTERN         6   \n",
      "2    536365    84406B       CREAM CUPID HEARTS COAT HANGER         8   \n",
      "3    536365    84029G  KNITTED UNION FLAG HOT WATER BOTTLE         6   \n",
      "4    536365    84029E       RED WOOLLY HOTTIE WHITE HEART.         6   \n",
      "\n",
      "          InvoiceDate  UnitPrice  CustomerID         Country  \n",
      "0 2010-12-01 08:26:00       2.55     17850.0  United Kingdom  \n",
      "1 2010-12-01 08:26:00       3.39     17850.0  United Kingdom  \n",
      "2 2010-12-01 08:26:00       2.75     17850.0  United Kingdom  \n",
      "3 2010-12-01 08:26:00       3.39     17850.0  United Kingdom  \n",
      "4 2010-12-01 08:26:00       3.39     17850.0  United Kingdom  \n"
     ]
    }
   ],
   "source": [
    "# filter data based on date range\n",
    "filtered_df = df[(df['InvoiceDate'] >= '2011-09-01') & (df['InvoiceDate'] <= '2011-11-30')]\n",
    "\n",
    "print(df.head())"
   ]
  },
  {
   "cell_type": "markdown",
   "id": "378c0664-12b5-4287-b6d6-c46b8b323593",
   "metadata": {},
   "source": [
    "## Q2"
   ]
  },
  {
   "cell_type": "code",
   "execution_count": 27,
   "id": "7759d7df-35a0-4ae6-bf8b-c3d6191a3557",
   "metadata": {},
   "outputs": [
    {
     "name": "stdout",
     "output_type": "stream",
     "text": [
      "  InvoiceNo                                          StockCode\n",
      "0    565080                                     [20677, 22128]\n",
      "1    565082                             [22423, 15060B, 23245]\n",
      "2    565083  [22609, 22741, 23146, 72351A, 72351B, 22652, 2...\n",
      "3    565084         [23309, 22970, 22988, 22902, 22659, 22616]\n",
      "4    565086                                            [22625]\n"
     ]
    }
   ],
   "source": [
    "# Group data by InvoiceNo and aggregate StockCodes as lists per InvoiceNo\n",
    "invoice_data = filtered_df.groupby('InvoiceNo')['StockCode'].apply(list).reset_index()\n",
    "print(invoice_data.head())"
   ]
  },
  {
   "cell_type": "markdown",
   "id": "69350b43-44ce-40cb-a0fb-8a109903220e",
   "metadata": {},
   "source": [
    "## Q3"
   ]
  },
  {
   "cell_type": "code",
   "execution_count": 28,
   "id": "61879bcb-8010-4668-8c11-60c5cc80e7b4",
   "metadata": {},
   "outputs": [
    {
     "name": "stdout",
     "output_type": "stream",
     "text": [
      "  antecedents consequents  antecedent support  consequent support   support  \\\n",
      "0    (85099B)     (20712)            0.077746            0.022213  0.010969   \n",
      "1     (20712)    (85099B)            0.022213            0.077746  0.010969   \n",
      "2     (20719)     (20724)            0.020842            0.037022  0.012203   \n",
      "3     (20724)     (20719)            0.037022            0.020842  0.012203   \n",
      "4     (20724)     (20723)            0.037022            0.017962  0.012066   \n",
      "\n",
      "   confidence       lift  representativity  leverage  conviction  \\\n",
      "0    0.141093   6.351819               1.0  0.009242    1.138409   \n",
      "1    0.493827   6.351819               1.0  0.009242    1.822014   \n",
      "2    0.585526  15.815716               1.0  0.011432    2.323376   \n",
      "3    0.329630  15.815716               1.0  0.011432    1.460623   \n",
      "4    0.325926  18.144869               1.0  0.011401    1.456869   \n",
      "\n",
      "   zhangs_metric   jaccard  certainty  kulczynski  \n",
      "0       0.913593  0.123267   0.121581    0.317460  \n",
      "1       0.861706  0.123267   0.451157    0.317460  \n",
      "2       0.956711  0.267267   0.569592    0.457578  \n",
      "3       0.972786  0.267267   0.315360    0.457578  \n",
      "4       0.981214  0.281150   0.313596    0.498841  \n"
     ]
    }
   ],
   "source": [
    "invoice_data['StockCode'] = invoice_data['StockCode'].apply(lambda x: [str(i) for i in x])\n",
    "\n",
    "# transforming data for mining\n",
    "te = TransactionEncoder()\n",
    "te_data = te.fit_transform(invoice_data['StockCode'])\n",
    "te_df = pd.DataFrame(te_data, columns=te.columns_)\n",
    "\n",
    "# applying apriori algorithm with a minimum support of 0.01\n",
    "frequent_itemsets = apriori(te_df, min_support=0.01, use_colnames=True)\n",
    "\n",
    "rules = association_rules(frequent_itemsets, metric=\"lift\", min_threshold=1.0, num_itemsets=len(frequent_itemsets))\n",
    "print(rules.head())"
   ]
  },
  {
   "cell_type": "markdown",
   "id": "fabe4b1b-3c57-4e51-b2a8-1d1c9ac4b639",
   "metadata": {},
   "source": [
    "## Q4"
   ]
  },
  {
   "cell_type": "code",
   "execution_count": 31,
   "id": "adeee61d-ba4d-4332-8d6f-f6370b368589",
   "metadata": {},
   "outputs": [
    {
     "name": "stdout",
     "output_type": "stream",
     "text": [
      "Top 10 rules:\n",
      "\n",
      "{22577, 22579} -> {22578}  confidence: 0.9105\n",
      "{22727, 22725} -> {22726}  confidence: 0.9024\n",
      "{22910, 23319} -> {22086}  confidence: 0.8778\n",
      "{23264, 23263, 23265} -> {23266}  confidence: 0.8713\n",
      "{23264, 23266, 23263} -> {23265}  confidence: 0.8713\n",
      "{22698, 22423} -> {22699}  confidence: 0.8632\n",
      "{23263, 23265} -> {23266}  confidence: 0.8378\n",
      "{22698, 22699} -> {22697}  confidence: 0.8370\n",
      "{22579} -> {22578}  confidence: 0.8359\n",
      "{22698, 22423} -> {22697}  confidence: 0.8316\n"
     ]
    }
   ],
   "source": [
    "# selecting top 10 rules based on confidence\n",
    "top_10_rules = rules.sort_values(by='confidence', ascending=False).head(10)\n",
    "\n",
    "print(\"Top 10 rules:\\n\")\n",
    "for _, row in top_10_rules.iterrows():\n",
    "    antecedents = ', '.join(list(row['antecedents']))\n",
    "    consequents = ', '.join(list(row['consequents']))\n",
    "    confidence = row['confidence']\n",
    "    print(f\"{{{antecedents}}} -> {{{consequents}}}  confidence: {confidence:.4f}\")"
   ]
  }
 ],
 "metadata": {
  "kernelspec": {
   "display_name": "Python 3 (ipykernel)",
   "language": "python",
   "name": "python3"
  },
  "language_info": {
   "codemirror_mode": {
    "name": "ipython",
    "version": 3
   },
   "file_extension": ".py",
   "mimetype": "text/x-python",
   "name": "python",
   "nbconvert_exporter": "python",
   "pygments_lexer": "ipython3",
   "version": "3.10.12"
  }
 },
 "nbformat": 4,
 "nbformat_minor": 5
}
