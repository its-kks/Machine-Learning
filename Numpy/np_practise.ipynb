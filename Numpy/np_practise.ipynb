{
 "cells": [
  {
   "cell_type": "code",
   "execution_count": 52,
   "id": "7555cdb6",
   "metadata": {},
   "outputs": [
    {
     "name": "stdout",
     "output_type": "stream",
     "text": [
      "[1 2 3]\n"
     ]
    }
   ],
   "source": [
    "import numpy as np\n",
    "import math\n",
    "\n",
    "l1 = [1,2,3]\n",
    "nl1 = np.array(l1)\n",
    "print(nl1)"
   ]
  },
  {
   "cell_type": "code",
   "execution_count": 36,
   "id": "15591ec1",
   "metadata": {},
   "outputs": [
    {
     "data": {
      "text/plain": [
       "array([[0., 0., 0.]])"
      ]
     },
     "execution_count": 36,
     "metadata": {},
     "output_type": "execute_result"
    }
   ],
   "source": [
    "np.zeros((1,3))"
   ]
  },
  {
   "cell_type": "code",
   "execution_count": 37,
   "id": "969b8e3d",
   "metadata": {
    "scrolled": true
   },
   "outputs": [
    {
     "data": {
      "text/plain": [
       "array([0., 0.])"
      ]
     },
     "execution_count": 37,
     "metadata": {},
     "output_type": "execute_result"
    }
   ],
   "source": [
    "np.zeros(2)"
   ]
  },
  {
   "cell_type": "code",
   "execution_count": 38,
   "id": "7d348d27",
   "metadata": {
    "scrolled": true
   },
   "outputs": [
    {
     "data": {
      "text/plain": [
       "array([[1., 0., 0.],\n",
       "       [0., 1., 0.],\n",
       "       [0., 0., 1.]])"
      ]
     },
     "execution_count": 38,
     "metadata": {},
     "output_type": "execute_result"
    }
   ],
   "source": [
    "np.identity(3)"
   ]
  },
  {
   "cell_type": "code",
   "execution_count": 39,
   "id": "bbe1b5b0",
   "metadata": {},
   "outputs": [
    {
     "data": {
      "text/plain": [
       "(10,)"
      ]
     },
     "execution_count": 39,
     "metadata": {},
     "output_type": "execute_result"
    }
   ],
   "source": [
    "np.arange(0,100,10).shape"
   ]
  },
  {
   "cell_type": "code",
   "execution_count": 40,
   "id": "27a1d591",
   "metadata": {},
   "outputs": [
    {
     "name": "stdout",
     "output_type": "stream",
     "text": [
      "[10.         16.35714286 22.71428571 29.07142857 35.42857143 41.78571429\n",
      " 48.14285714 54.5        60.85714286 67.21428571 73.57142857 79.92857143\n",
      " 86.28571429 92.64285714 99.        ]\n"
     ]
    },
    {
     "data": {
      "text/plain": [
       "(15,)"
      ]
     },
     "execution_count": 40,
     "metadata": {},
     "output_type": "execute_result"
    }
   ],
   "source": [
    "nplinspace = np.linspace(10,99,15)\n",
    "print(nplinspace)\n",
    "nplinspace.shape"
   ]
  },
  {
   "cell_type": "code",
   "execution_count": 41,
   "id": "514ad455",
   "metadata": {},
   "outputs": [
    {
     "data": {
      "text/plain": [
       "1"
      ]
     },
     "execution_count": 41,
     "metadata": {},
     "output_type": "execute_result"
    }
   ],
   "source": [
    "nplinspace.ndim"
   ]
  },
  {
   "cell_type": "code",
   "execution_count": 42,
   "id": "d18fe05e-abe8-48d2-a5bd-fabd721bafc9",
   "metadata": {},
   "outputs": [],
   "source": [
    "np_id = np.identity(3)"
   ]
  },
  {
   "cell_type": "code",
   "execution_count": 43,
   "id": "b9152761-e577-4102-8941-7f242b17e864",
   "metadata": {},
   "outputs": [],
   "source": [
    "np_id[0][2] = 5"
   ]
  },
  {
   "cell_type": "code",
   "execution_count": 44,
   "id": "ddcc127b-e36a-42a4-aa30-7b408b7efb21",
   "metadata": {},
   "outputs": [
    {
     "name": "stdout",
     "output_type": "stream",
     "text": [
      "[[1. 0. 5.]\n",
      " [0. 1. 0.]\n",
      " [0. 0. 1.]]\n"
     ]
    }
   ],
   "source": [
    "print(np_id)"
   ]
  },
  {
   "cell_type": "code",
   "execution_count": 45,
   "id": "06f83d57-9d7e-43b6-903e-7f0597eb6115",
   "metadata": {},
   "outputs": [],
   "source": [
    "np_id.min()\n",
    "np_id.max()\n",
    "np_id[1][0] = 4"
   ]
  },
  {
   "cell_type": "code",
   "execution_count": 46,
   "id": "7a432e1c-9ad3-4948-acf0-9279b2814da7",
   "metadata": {},
   "outputs": [
    {
     "name": "stdout",
     "output_type": "stream",
     "text": [
      "[[1. 0. 5.]\n",
      " [4. 1. 0.]\n",
      " [0. 0. 1.]]\n",
      "12.0 [5. 1. 6.] [6. 5. 1.]\n"
     ]
    }
   ],
   "source": [
    "print(np_id)\n",
    "all_sum = np_id.sum()\n",
    "row_axis_sum = np_id.sum(axis=0)\n",
    "col_axis_sum = np_id.sum(axis=1)\n",
    "print(all_sum,row_axis_sum,col_axis_sum)"
   ]
  },
  {
   "cell_type": "code",
   "execution_count": 55,
   "id": "1f2188e7-1fe4-4c67-861b-da1e92b1d928",
   "metadata": {},
   "outputs": [
    {
     "name": "stdout",
     "output_type": "stream",
     "text": [
      "[[0.6387969  0.53554899 0.62445497 0.84483826 0.52784884]\n",
      " [0.18726893 0.0167934  0.39534639 0.34500257 0.30874175]\n",
      " [0.08042981 0.99784402 0.62947622 0.47377859 0.56205179]]\n"
     ]
    },
    {
     "data": {
      "text/plain": [
       "array([[6.38796896, 5.35548989, 6.2445497 , 8.44838258, 5.27848842],\n",
       "       [1.87268933, 0.16793397, 3.95346392, 3.45002566, 3.08741753],\n",
       "       [0.80429815, 9.97844017, 6.29476219, 4.73778587, 5.62051794]])"
      ]
     },
     "execution_count": 55,
     "metadata": {},
     "output_type": "execute_result"
    }
   ],
   "source": [
    "np_rand = np.random.rand(3,5)\n",
    "print(np_rand)\n",
    "np_rand*10\n"
   ]
  },
  {
   "cell_type": "code",
   "execution_count": 63,
   "id": "1ba4c4b4-0918-4823-93b2-54f0030beadb",
   "metadata": {},
   "outputs": [
    {
     "name": "stdout",
     "output_type": "stream",
     "text": [
      "[[1.04094597 5.52476908 3.77183606 3.21373119 3.33810781]\n",
      " [2.74245652 2.15898935 2.89316627 3.7243556  2.42013712]\n",
      " [0.08042981 0.99784402 0.62947622 0.47377859 0.56205179]]\n",
      "[[0.6387969  0.53554899 0.62445497]\n",
      " [0.18726893 0.0167934  0.39534639]\n",
      " [0.08042981 0.99784402 0.62947622]]\n"
     ]
    }
   ],
   "source": [
    "new_np = np_id.dot(np_rand)\n",
    "print(new_np)\n",
    "np_rand_slice = np_rand[0:,0:3]\n",
    "print(np_rand_slice)"
   ]
  },
  {
   "cell_type": "code",
   "execution_count": 69,
   "id": "3cf219fa-4cac-4122-a039-a4c0c5007adb",
   "metadata": {},
   "outputs": [
    {
     "data": {
      "text/plain": [
       "array([[1.04094597, 5.52476908],\n",
       "       [2.74245652, 2.15898935],\n",
       "       [0.08042981, 0.99784402]])"
      ]
     },
     "execution_count": 69,
     "metadata": {},
     "output_type": "execute_result"
    }
   ],
   "source": [
    "new_np[:,[0,1]]"
   ]
  },
  {
   "cell_type": "code",
   "execution_count": 79,
   "id": "0abd5f10-c75c-4d61-836b-a6cce152a4fa",
   "metadata": {},
   "outputs": [
    {
     "name": "stdout",
     "output_type": "stream",
     "text": [
      "[[0.08042981 0.47377859 0.56205179 0.62947622 0.99784402]\n",
      " [1.04094597 2.42013712 2.74245652 2.89316627 3.7243556 ]\n",
      " [2.15898935 3.21373119 3.33810781 3.77183606 5.52476908]]\n"
     ]
    },
    {
     "data": {
      "text/plain": [
       "array([[ 2.74358043],\n",
       "       [12.82106148],\n",
       "       [18.0074335 ]])"
      ]
     },
     "execution_count": 79,
     "metadata": {},
     "output_type": "execute_result"
    }
   ],
   "source": [
    "new_np.sort(axis=0)\n",
    "print(new_np)\n",
    "new_np.sum(axis=1).reshape(3,1)"
   ]
  }
 ],
 "metadata": {
  "kernelspec": {
   "display_name": "Python 3 (ipykernel)",
   "language": "python",
   "name": "python3"
  },
  "language_info": {
   "codemirror_mode": {
    "name": "ipython",
    "version": 3
   },
   "file_extension": ".py",
   "mimetype": "text/x-python",
   "name": "python",
   "nbconvert_exporter": "python",
   "pygments_lexer": "ipython3",
   "version": "3.10.12"
  }
 },
 "nbformat": 4,
 "nbformat_minor": 5
}
