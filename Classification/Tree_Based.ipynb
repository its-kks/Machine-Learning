{
 "cells": [
  {
   "cell_type": "code",
   "execution_count": 63,
   "id": "075a0938-87d1-4165-ab43-eb9d84ea8323",
   "metadata": {},
   "outputs": [
    {
     "name": "stdout",
     "output_type": "stream",
     "text": [
      "   Unnamed: 0  Age     Sex  Job Housing Saving accounts Checking account  \\\n",
      "0           0   67    male    2     own             NaN           little   \n",
      "1           1   22  female    2     own          little         moderate   \n",
      "2           2   49    male    1     own          little              NaN   \n",
      "3           3   45    male    2    free          little           little   \n",
      "4           4   53    male    2    free          little           little   \n",
      "\n",
      "   Credit amount  Duration              Purpose  Risk  \n",
      "0           1169         6             radio/TV  good  \n",
      "1           5951        48             radio/TV   bad  \n",
      "2           2096        12            education  good  \n",
      "3           7882        42  furniture/equipment  good  \n",
      "4           4870        24                  car   bad  \n"
     ]
    }
   ],
   "source": [
    "import pandas as pd\n",
    "import numpy as np\n",
    "import seaborn as sns\n",
    "import statsmodels.api as sm\n",
    "from sklearn.model_selection import train_test_split\n",
    "import matplotlib.pyplot as plt \n",
    "%matplotlib inline\n",
    "\n",
    "df =  pd.read_csv('german_credit_data.csv')\n",
    "print(df.head())\n",
    "\n",
    "X = df.drop('Risk',axis=1)\n",
    "Y = df['Risk']\n",
    "X = pd.get_dummies(X,drop_first=True)\n",
    "Y = pd.get_dummies(Y,drop_first=True)\n",
    "\n",
    "for col in X.columns:\n",
    "    X[col] = X.apply(lambda rec : 1 if rec[col]==True else rec[col], axis=1) \n",
    "    X[col] = X.apply(lambda rec : 0 if rec[col]==False else rec[col], axis=1)\n",
    "for col in Y.columns:\n",
    "    Y[col] = Y.apply(lambda rec : 1 if rec[col]==True else rec[col], axis=1) \n",
    "    Y[col] = Y.apply(lambda rec : 0 if rec[col]==False else rec[col], axis=1)\n",
    "\n",
    "X = sm.add_constant(X)"
   ]
  },
  {
   "cell_type": "code",
   "execution_count": 64,
   "id": "a0261164-f44d-4e97-9dc0-4d292ca764e0",
   "metadata": {},
   "outputs": [
    {
     "data": {
      "text/plain": [
       "Risk\n",
       "good    700\n",
       "bad     300\n",
       "Name: count, dtype: int64"
      ]
     },
     "execution_count": 64,
     "metadata": {},
     "output_type": "execute_result"
    }
   ],
   "source": [
    "df.value_counts('Risk')"
   ]
  },
  {
   "cell_type": "code",
   "execution_count": 65,
   "id": "8c94b470-e28e-407d-8198-14c7b732afa5",
   "metadata": {},
   "outputs": [],
   "source": [
    "train_x , test_x , train_y, test_y = train_test_split(X,Y,train_size=0.7, random_state=42)"
   ]
  },
  {
   "cell_type": "code",
   "execution_count": 66,
   "id": "b5e19a67-87b3-4ef5-b173-720391f975a2",
   "metadata": {},
   "outputs": [],
   "source": [
    "\"\"\"\n",
    "    REMEMBER: \n",
    "\"\"\"\n",
    "\n",
    "from sklearn.tree import DecisionTreeClassifier\n",
    "from sklearn.metrics import roc_auc_score\n",
    "\n",
    "tree_gini = DecisionTreeClassifier(criterion='gini').fit(train_x,train_y)"
   ]
  },
  {
   "cell_type": "code",
   "execution_count": 67,
   "id": "7fa3813b-11c5-4546-8a32-cdd54024dcda",
   "metadata": {},
   "outputs": [],
   "source": [
    "pred_df_gini = pd.DataFrame()\n",
    "pred_df_gini['pred_good']= tree_gini.predict(test_x)\n",
    "pred_df_gini['actual_good'] = np.array(test_y)"
   ]
  },
  {
   "cell_type": "code",
   "execution_count": 68,
   "id": "7de69371-3908-40a5-964d-7c8087c40535",
   "metadata": {},
   "outputs": [
    {
     "name": "stdout",
     "output_type": "stream",
     "text": [
      "0.5277617119722382\n"
     ]
    }
   ],
   "source": [
    "print(roc_auc_score(pred_df_gini['actual_good'],pred_df_gini['pred_good']))"
   ]
  },
  {
   "cell_type": "code",
   "execution_count": 69,
   "id": "42bd9bc0-2ecc-46bc-a03a-cd37a2d53bd4",
   "metadata": {},
   "outputs": [
    {
     "name": "stdout",
     "output_type": "stream",
     "text": [
      "0.5482149429517851\n"
     ]
    }
   ],
   "source": [
    "# entropy based\n",
    "tree_gini = DecisionTreeClassifier(criterion='entropy', max_depth=3).fit(train_x,train_y)\n",
    "\n",
    "pred_df_ent = pd.DataFrame()\n",
    "pred_df_ent['pred_good']= tree_gini.predict(test_x)\n",
    "pred_df_ent['actual_good'] = np.array(test_y)\n",
    "\n",
    "print(roc_auc_score(pred_df_ent['actual_good'],pred_df_ent['pred_good']))"
   ]
  },
  {
   "cell_type": "code",
   "execution_count": 70,
   "id": "8818b003-3409-47c9-b082-a58b6e5f6133",
   "metadata": {},
   "outputs": [
    {
     "name": "stdout",
     "output_type": "stream",
     "text": [
      "0.6108945578231293\n",
      "{'criterion': 'gini', 'max_depth': 6}\n"
     ]
    }
   ],
   "source": [
    "# using gridsearch\n",
    "from sklearn.model_selection import GridSearchCV\n",
    "\n",
    "tuned_params = [{'criterion': ['gini','entropy'], 'max_depth': range(2,10)}]\n",
    "clf = GridSearchCV(DecisionTreeClassifier(), tuned_params , cv = 10, scoring='roc_auc')\n",
    "clf.fit(train_x,train_y)\n",
    "print(clf.best_score_)\n",
    "print(clf.best_params_)"
   ]
  },
  {
   "cell_type": "code",
   "execution_count": null,
   "id": "41438425-9035-41e2-8a87-9de8e5b467a6",
   "metadata": {},
   "outputs": [],
   "source": []
  }
 ],
 "metadata": {
  "kernelspec": {
   "display_name": "Python 3 (ipykernel)",
   "language": "python",
   "name": "python3"
  },
  "language_info": {
   "codemirror_mode": {
    "name": "ipython",
    "version": 3
   },
   "file_extension": ".py",
   "mimetype": "text/x-python",
   "name": "python",
   "nbconvert_exporter": "python",
   "pygments_lexer": "ipython3",
   "version": "3.10.12"
  }
 },
 "nbformat": 4,
 "nbformat_minor": 5
}
