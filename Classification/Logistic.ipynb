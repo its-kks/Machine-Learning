{
 "cells": [
  {
   "cell_type": "code",
   "execution_count": 83,
   "id": "8541f3e2-8372-49f9-8501-912b431d5aea",
   "metadata": {},
   "outputs": [],
   "source": [
    "import pandas as pd\n",
    "import numpy as np\n",
    "import seaborn as sns\n",
    "import statsmodels.api as sm\n",
    "from sklearn.model_selection import train_test_split\n",
    "import matplotlib.pyplot as plt \n",
    "%matplotlib inline\n"
   ]
  },
  {
   "cell_type": "code",
   "execution_count": 61,
   "id": "6fe64cca-f9cd-4730-820c-00091ca30109",
   "metadata": {},
   "outputs": [
    {
     "data": {
      "text/html": [
       "<div>\n",
       "<style scoped>\n",
       "    .dataframe tbody tr th:only-of-type {\n",
       "        vertical-align: middle;\n",
       "    }\n",
       "\n",
       "    .dataframe tbody tr th {\n",
       "        vertical-align: top;\n",
       "    }\n",
       "\n",
       "    .dataframe thead th {\n",
       "        text-align: right;\n",
       "    }\n",
       "</style>\n",
       "<table border=\"1\" class=\"dataframe\">\n",
       "  <thead>\n",
       "    <tr style=\"text-align: right;\">\n",
       "      <th></th>\n",
       "      <th>Unnamed: 0</th>\n",
       "      <th>Age</th>\n",
       "      <th>Sex</th>\n",
       "      <th>Job</th>\n",
       "      <th>Housing</th>\n",
       "      <th>Saving accounts</th>\n",
       "      <th>Checking account</th>\n",
       "      <th>Credit amount</th>\n",
       "      <th>Duration</th>\n",
       "      <th>Purpose</th>\n",
       "      <th>Risk</th>\n",
       "    </tr>\n",
       "  </thead>\n",
       "  <tbody>\n",
       "    <tr>\n",
       "      <th>0</th>\n",
       "      <td>0</td>\n",
       "      <td>67</td>\n",
       "      <td>male</td>\n",
       "      <td>2</td>\n",
       "      <td>own</td>\n",
       "      <td>NaN</td>\n",
       "      <td>little</td>\n",
       "      <td>1169</td>\n",
       "      <td>6</td>\n",
       "      <td>radio/TV</td>\n",
       "      <td>good</td>\n",
       "    </tr>\n",
       "    <tr>\n",
       "      <th>1</th>\n",
       "      <td>1</td>\n",
       "      <td>22</td>\n",
       "      <td>female</td>\n",
       "      <td>2</td>\n",
       "      <td>own</td>\n",
       "      <td>little</td>\n",
       "      <td>moderate</td>\n",
       "      <td>5951</td>\n",
       "      <td>48</td>\n",
       "      <td>radio/TV</td>\n",
       "      <td>bad</td>\n",
       "    </tr>\n",
       "    <tr>\n",
       "      <th>2</th>\n",
       "      <td>2</td>\n",
       "      <td>49</td>\n",
       "      <td>male</td>\n",
       "      <td>1</td>\n",
       "      <td>own</td>\n",
       "      <td>little</td>\n",
       "      <td>NaN</td>\n",
       "      <td>2096</td>\n",
       "      <td>12</td>\n",
       "      <td>education</td>\n",
       "      <td>good</td>\n",
       "    </tr>\n",
       "    <tr>\n",
       "      <th>3</th>\n",
       "      <td>3</td>\n",
       "      <td>45</td>\n",
       "      <td>male</td>\n",
       "      <td>2</td>\n",
       "      <td>free</td>\n",
       "      <td>little</td>\n",
       "      <td>little</td>\n",
       "      <td>7882</td>\n",
       "      <td>42</td>\n",
       "      <td>furniture/equipment</td>\n",
       "      <td>good</td>\n",
       "    </tr>\n",
       "    <tr>\n",
       "      <th>4</th>\n",
       "      <td>4</td>\n",
       "      <td>53</td>\n",
       "      <td>male</td>\n",
       "      <td>2</td>\n",
       "      <td>free</td>\n",
       "      <td>little</td>\n",
       "      <td>little</td>\n",
       "      <td>4870</td>\n",
       "      <td>24</td>\n",
       "      <td>car</td>\n",
       "      <td>bad</td>\n",
       "    </tr>\n",
       "  </tbody>\n",
       "</table>\n",
       "</div>"
      ],
      "text/plain": [
       "   Unnamed: 0  Age     Sex  Job Housing Saving accounts Checking account  \\\n",
       "0           0   67    male    2     own             NaN           little   \n",
       "1           1   22  female    2     own          little         moderate   \n",
       "2           2   49    male    1     own          little              NaN   \n",
       "3           3   45    male    2    free          little           little   \n",
       "4           4   53    male    2    free          little           little   \n",
       "\n",
       "   Credit amount  Duration              Purpose  Risk  \n",
       "0           1169         6             radio/TV  good  \n",
       "1           5951        48             radio/TV   bad  \n",
       "2           2096        12            education  good  \n",
       "3           7882        42  furniture/equipment  good  \n",
       "4           4870        24                  car   bad  "
      ]
     },
     "execution_count": 61,
     "metadata": {},
     "output_type": "execute_result"
    }
   ],
   "source": [
    "df =  pd.read_csv('german_credit_data.csv')\n",
    "df.head()"
   ]
  },
  {
   "cell_type": "code",
   "execution_count": 62,
   "id": "14470000-5d32-466b-8119-22d32f2fdbf7",
   "metadata": {},
   "outputs": [
    {
     "data": {
      "text/plain": [
       "Risk\n",
       "good    700\n",
       "bad     300\n",
       "Name: count, dtype: int64"
      ]
     },
     "execution_count": 62,
     "metadata": {},
     "output_type": "execute_result"
    }
   ],
   "source": [
    "df['Risk'].value_counts()"
   ]
  },
  {
   "cell_type": "code",
   "execution_count": 63,
   "id": "21e1f705-4056-4876-a52e-25745efa44f7",
   "metadata": {},
   "outputs": [],
   "source": [
    "X = df.drop('Risk',axis=1)\n",
    "Y = df['Risk']\n",
    "X = pd.get_dummies(X,drop_first=True)\n",
    "Y = pd.get_dummies(Y,drop_first=True)"
   ]
  },
  {
   "cell_type": "code",
   "execution_count": 64,
   "id": "f649dda8-7f1a-435c-979f-cd5ec1913eb7",
   "metadata": {},
   "outputs": [],
   "source": [
    "for col in X.columns:\n",
    "    X[col] = X.apply(lambda rec : 1 if rec[col]==True else rec[col], axis=1) \n",
    "    X[col] = X.apply(lambda rec : 0 if rec[col]==False else rec[col], axis=1)\n",
    "for col in Y.columns:\n",
    "    Y[col] = Y.apply(lambda rec : 1 if rec[col]==True else rec[col], axis=1) \n",
    "    Y[col] = Y.apply(lambda rec : 0 if rec[col]==False else rec[col], axis=1)"
   ]
  },
  {
   "cell_type": "code",
   "execution_count": 65,
   "id": "3c485c90-6143-48c5-bb3f-c4afa0fc5810",
   "metadata": {},
   "outputs": [],
   "source": [
    "X = sm.add_constant(X)\n",
    "\n",
    "train_x , test_x , train_y, test_y = train_test_split(X,Y,train_size=0.7, random_state=42)"
   ]
  },
  {
   "cell_type": "code",
   "execution_count": 67,
   "id": "2e1bc50c-af2c-43cd-afc7-0b5b31dac688",
   "metadata": {},
   "outputs": [
    {
     "name": "stdout",
     "output_type": "stream",
     "text": [
      "Optimization terminated successfully.\n",
      "         Current function value: 0.543543\n",
      "         Iterations 6\n",
      "                              Results: Logit\n",
      "===========================================================================\n",
      "Model:                  Logit               Method:              MLE       \n",
      "Dependent Variable:     good                Pseudo R-squared:    0.108     \n",
      "Date:                   2024-10-19 06:33    AIC:                 802.9604  \n",
      "No. Observations:       700                 BIC:                 898.5331  \n",
      "Df Model:               20                  Log-Likelihood:      -380.48   \n",
      "Df Residuals:           679                 LL-Null:             -426.75   \n",
      "Converged:              1.0000              LLR p-value:         2.6484e-11\n",
      "No. Iterations:         6.0000              Scale:               1.0000    \n",
      "---------------------------------------------------------------------------\n",
      "                             Coef.  Std.Err.    z    P>|z|   [0.025  0.975]\n",
      "---------------------------------------------------------------------------\n",
      "const                       -1.0170   0.7182 -1.4162 0.1567 -2.4246  0.3905\n",
      "Unnamed: 0                  -0.0000   0.0003 -0.1305 0.8962 -0.0007  0.0006\n",
      "Age                          0.0361   0.0095  3.8057 0.0001  0.0175  0.0547\n",
      "Job                          0.0608   0.1439  0.4226 0.6726 -0.2212  0.3429\n",
      "Credit amount               -0.0000   0.0000 -0.1674 0.8670 -0.0001  0.0001\n",
      "Duration                    -0.0301   0.0096 -3.1286 0.0018 -0.0489 -0.0112\n",
      "Sex_male                     0.3742   0.1953  1.9162 0.0553 -0.0086  0.7570\n",
      "Housing_own                  0.9398   0.3035  3.0969 0.0020  0.3450  1.5346\n",
      "Housing_rent                 0.5093   0.3640  1.3994 0.1617 -0.2040  1.2227\n",
      "Saving accounts_moderate     0.2199   0.2971  0.7401 0.4593 -0.3625  0.8023\n",
      "Saving accounts_quite rich   0.9043   0.4403  2.0539 0.0400  0.0413  1.7672\n",
      "Saving accounts_rich         1.2540   0.5596  2.2410 0.0250  0.1573  2.3508\n",
      "Checking account_moderate   -0.4328   0.2010 -2.1533 0.0313 -0.8267 -0.0389\n",
      "Checking account_rich        0.1364   0.4108  0.3321 0.7398 -0.6688  0.9416\n",
      "Purpose_car                  0.0119   0.3211  0.0371 0.9704 -0.6173  0.6412\n",
      "Purpose_domestic appliances -0.3356   0.7470 -0.4492 0.6533 -1.7998  1.1286\n",
      "Purpose_education           -0.3230   0.4664 -0.6925 0.4886 -1.2370  0.5911\n",
      "Purpose_furniture/equipment  0.3609   0.3598  1.0030 0.3158 -0.3443  1.0662\n",
      "Purpose_radio/TV             0.7147   0.3355  2.1299 0.0332  0.0570  1.3723\n",
      "Purpose_repairs              0.0926   0.6195  0.1494 0.8812 -1.1216  1.3068\n",
      "Purpose_vacation/others     -0.2880   0.7555 -0.3811 0.7031 -1.7687  1.1928\n",
      "===========================================================================\n",
      "\n"
     ]
    }
   ],
   "source": [
    "log_model = sm.Logit(train_y,train_x).fit()\n",
    "print(log_model.summary2())"
   ]
  },
  {
   "cell_type": "code",
   "execution_count": 68,
   "id": "b5490122-7e81-4f04-a2a0-f3f994da601c",
   "metadata": {},
   "outputs": [],
   "source": [
    "# Finding columns having p-value < 0.05"
   ]
  },
  {
   "cell_type": "code",
   "execution_count": 74,
   "id": "1f5b2160-7de4-49c0-ac98-cc3f07fcf587",
   "metadata": {},
   "outputs": [
    {
     "name": "stdout",
     "output_type": "stream",
     "text": [
      "Index(['Age', 'Duration', 'Housing_own', 'Saving accounts_quite rich',\n",
      "       'Saving accounts_rich', 'Checking account_moderate',\n",
      "       'Purpose_radio/TV'],\n",
      "      dtype='object')\n"
     ]
    }
   ],
   "source": [
    "significant_features = log_model.pvalues[log_model.pvalues <= 0.05].index\n",
    "print(significant_features)\n",
    "X = X[np.array(significant_features)]"
   ]
  },
  {
   "cell_type": "code",
   "execution_count": 77,
   "id": "4f18fa91-5e7e-4a3c-aab7-8d0a7c37a578",
   "metadata": {},
   "outputs": [
    {
     "name": "stdout",
     "output_type": "stream",
     "text": [
      "Optimization terminated successfully.\n",
      "         Current function value: 0.550915\n",
      "         Iterations 6\n",
      "                              Results: Logit\n",
      "==========================================================================\n",
      "Model:                 Logit               Method:              MLE       \n",
      "Dependent Variable:    good                Pseudo R-squared:    0.096     \n",
      "Date:                  2024-10-19 06:42    AIC:                 785.2812  \n",
      "No. Observations:      700                 BIC:                 817.1387  \n",
      "Df Model:              6                   Log-Likelihood:      -385.64   \n",
      "Df Residuals:          693                 LL-Null:             -426.75   \n",
      "Converged:             1.0000              LLR p-value:         1.2377e-15\n",
      "No. Iterations:        6.0000              Scale:               1.0000    \n",
      "--------------------------------------------------------------------------\n",
      "                            Coef.  Std.Err.    z    P>|z|   [0.025  0.975]\n",
      "--------------------------------------------------------------------------\n",
      "Age                         0.0296   0.0053  5.5673 0.0000  0.0192  0.0401\n",
      "Duration                   -0.0325   0.0066 -4.9010 0.0000 -0.0455 -0.0195\n",
      "Housing_own                 0.6168   0.1745  3.5344 0.0004  0.2747  0.9588\n",
      "Saving accounts_quite rich  0.8996   0.4318  2.0835 0.0372  0.0533  1.7458\n",
      "Saving accounts_rich        1.2183   0.5519  2.2076 0.0273  0.1367  2.2999\n",
      "Checking account_moderate  -0.4622   0.1871 -2.4699 0.0135 -0.8290 -0.0954\n",
      "Purpose_radio/TV            0.6644   0.2083  3.1891 0.0014  0.2561  1.0727\n",
      "==========================================================================\n",
      "\n"
     ]
    }
   ],
   "source": [
    "train_x , test_x , train_y, test_y = train_test_split(X,Y,train_size=0.7, random_state=42)\n",
    "log_model = sm.Logit(train_y,train_x).fit()\n",
    "print(log_model.summary2())"
   ]
  },
  {
   "cell_type": "code",
   "execution_count": 82,
   "id": "b9e699ef-fafe-424f-9d12-70aceefa64b9",
   "metadata": {},
   "outputs": [
    {
     "name": "stdout",
     "output_type": "stream",
     "text": [
      "     pred_good_prob  pred_good  actual_good\n",
      "521        0.803411          1            0\n",
      "737        0.744483          1            1\n",
      "740        0.686878          1            1\n",
      "660        0.722372          1            1\n",
      "411        0.641553          1            1\n"
     ]
    }
   ],
   "source": [
    "pred_df = pd.DataFrame()\n",
    "pred_df['pred_good_prob'] = log_model.predict(test_x)\n",
    "pred_df['pred_good'] = pred_df.apply(lambda rec : 1 if rec['pred_good_prob'] > 0.5 else 0, axis=1) \n",
    "pred_df['actual_good'] = test_y\n",
    "print(pred_df.head())"
   ]
  },
  {
   "cell_type": "code",
   "execution_count": 92,
   "id": "2169ebed-4941-43c3-8ff7-9f2e00cd6615",
   "metadata": {},
   "outputs": [
    {
     "name": "stdout",
     "output_type": "stream",
     "text": [
      "              precision    recall  f1-score   support\n",
      "\n",
      "           0       0.43      0.16      0.24        91\n",
      "           1       0.71      0.90      0.80       209\n",
      "\n",
      "    accuracy                           0.68       300\n",
      "   macro avg       0.57      0.53      0.52       300\n",
      "weighted avg       0.63      0.68      0.63       300\n",
      "\n"
     ]
    },
    {
     "data": {
      "image/png": "[encoded data removed]",
      "text/plain": [
       "<Figure size 640x480 with 1 Axes>"
      ]
     },
     "metadata": {},
     "output_type": "display_data"
    }
   ],
   "source": [
    "# Confustion Matrix\n",
    "\"\"\" \n",
    "    REMEMBER \n",
    "    1. [ True Negative (TN), False Negative (FN)\n",
    "        False Positive (FP), True Positive (TP)]\n",
    "    2. True Negative (TN): Correctly predicted \"Bad\" (negative class).\n",
    "    3. False Positive (FP): Incorrectly predicted \"Good\" (positive class) when it was actually \"Bad\".\n",
    "    4. False Negative (FN): Incorrectly predicted \"Bad\" when it was actually \"Good\".\n",
    "    5. True Positive (TP): Correctly predicted \"Good\" (positive class).\n",
    "\n",
    "\"\"\"\n",
    "\n",
    "from sklearn.metrics import confusion_matrix, classification_report\n",
    "cm = confusion_matrix(y_true=pred_df['actual_good'], y_pred=pred_df['pred_good'])\n",
    "sns.heatmap(cm, annot=True, fmt='d', cmap='Blues', cbar=False, xticklabels=['Predicted Bad', 'Predicted Good'], yticklabels=['Actual Bad', 'Actual Good'])\n",
    "print(classification_report(pred_df['actual_good'], pred_df['pred_good']))"
   ]
  },
  {
   "cell_type": "code",
   "execution_count": 98,
   "id": "68cebf4f-05b0-4bec-ae06-ff0e871bad6a",
   "metadata": {},
   "outputs": [
    {
     "name": "stdout",
     "output_type": "stream",
     "text": [
      "AUC Score: 0.5345706924654292\n"
     ]
    },
    {
     "data": {
      "image/png": "[encoded data removed]",
      "text/plain": [
       "<Figure size 640x480 with 1 Axes>"
      ]
     },
     "metadata": {},
     "output_type": "display_data"
    }
   ],
   "source": [
    "# ROC AUC \n",
    "\"\"\" \n",
    "    REMEMBER \n",
    "    1. If AUC score for ROC curve == 0.5 then same as random guess\n",
    "    2. < 0.5 worst than random guessing\n",
    "    3. > 0.5 better than random guessing\n",
    "    4. >= 0.7 for modal to be used\n",
    "    5. fpr -> False Positive Rate\n",
    "    6. tpr -> True Positive Rate\n",
    "\n",
    "\"\"\"\n",
    "\n",
    "from sklearn.metrics import roc_auc_score, roc_curve, auc\n",
    "print(f\"AUC Score: {roc_auc_score(pred_df['actual_good'],pred_df['pred_good'])}\")\n",
    "\n",
    "fpr, tpr, thresholds = roc_curve(pred_df['actual_good'], pred_df['pred_good_prob']) \n",
    "roc_auc = auc(fpr, tpr)\n",
    "\n",
    "# Plot ROC curve\n",
    "plt.figure()\n",
    "plt.plot(fpr, tpr, color='darkorange', lw=2, label=f'ROC curve (AUC = {roc_auc:.2f})')\n",
    "plt.plot([0, 1], [0, 1], color='navy', lw=2, linestyle='--') \n",
    "plt.xlim([0.0, 1.0])\n",
    "plt.ylim([0.0, 1.05])\n",
    "plt.xlabel('False Positive Rate')\n",
    "plt.ylabel('True Positive Rate')\n",
    "plt.title('Receiver Operating Characteristic (ROC) Curve')\n",
    "plt.legend(loc=\"lower right\")\n",
    "plt.show()"
   ]
  },
  {
   "cell_type": "code",
   "execution_count": 96,
   "id": "564c931f-d992-4da7-8a6a-e618651ccfa9",
   "metadata": {},
   "outputs": [],
   "source": [
    "# Finding best probability cutoff we used 0.5"
   ]
  },
  {
   "cell_type": "code",
   "execution_count": 100,
   "id": "091e7a7d-70b0-4b46-8864-ef511ea1266d",
   "metadata": {},
   "outputs": [
    {
     "name": "stdout",
     "output_type": "stream",
     "text": [
      "         tpr       fpr  thresholds      diff\n",
      "60  0.578947  0.318681    0.736373  0.260266\n",
      "56  0.555024  0.296703    0.740307  0.258321\n",
      "59  0.569378  0.318681    0.736547  0.250697\n",
      "57  0.555024  0.307692    0.739894  0.247332\n",
      "55  0.540670  0.296703    0.744483  0.243967\n"
     ]
    }
   ],
   "source": [
    "tpr_fpr = pd.DataFrame({\n",
    "    'tpr': tpr,\n",
    "    'fpr': fpr,\n",
    "    'thresholds': thresholds\n",
    "})\n",
    "\n",
    "tpr_fpr['diff'] = tpr_fpr['tpr'] - tpr_fpr['fpr']\n",
    "\n",
    "top5_thresholds = tpr_fpr.sort_values('diff', ascending=False).head(5)\n",
    "print(top5_thresholds)\n",
    "\n",
    "# optimal threshold is 0.73"
   ]
  },
  {
   "cell_type": "code",
   "execution_count": 101,
   "id": "8581b877-ee84-402d-951f-1b799170acf2",
   "metadata": {},
   "outputs": [
    {
     "name": "stdout",
     "output_type": "stream",
     "text": [
      "AUC Score: 0.6184341973815657\n"
     ]
    }
   ],
   "source": [
    "pred_df['pred_good'] = pred_df.apply(lambda rec : 1 if rec['pred_good_prob'] > 0.73 else 0, axis=1)\n",
    "\n",
    "print(f\"AUC Score: {roc_auc_score(pred_df['actual_good'],pred_df['pred_good'])}\")"
   ]
  },
  {
   "cell_type": "code",
   "execution_count": 102,
   "id": "3ad1335e-41a7-43ce-b5a4-57de86bbba99",
   "metadata": {},
   "outputs": [],
   "source": [
    "# cost based approach"
   ]
  },
  {
   "cell_type": "code",
   "execution_count": 103,
   "id": "2a4d17c0-9db4-4069-8308-831ef2779b93",
   "metadata": {},
   "outputs": [],
   "source": [
    "# Gain chart and lift chart"
   ]
  },
  {
   "cell_type": "code",
   "execution_count": null,
   "id": "c3d69c1d-e80f-40e4-bc33-a90024fac50b",
   "metadata": {},
   "outputs": [],
   "source": []
  }
 ],
 "metadata": {
  "kernelspec": {
   "display_name": "Python 3 (ipykernel)",
   "language": "python",
   "name": "python3"
  },
  "language_info": {
   "codemirror_mode": {
    "name": "ipython",
    "version": 3
   },
   "file_extension": ".py",
   "mimetype": "text/x-python",
   "name": "python",
   "nbconvert_exporter": "python",
   "pygments_lexer": "ipython3",
   "version": "3.10.12"
  }
 },
 "nbformat": 4,
 "nbformat_minor": 5
}
